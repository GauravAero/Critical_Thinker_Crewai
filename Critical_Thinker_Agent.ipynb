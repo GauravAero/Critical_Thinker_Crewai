{
  "nbformat": 4,
  "nbformat_minor": 0,
  "metadata": {
    "colab": {
      "provenance": [],
      "authorship_tag": "ABX9TyOXTV1W+pkIBsBQavnhidqT",
      "include_colab_link": true
    },
    "kernelspec": {
      "name": "python3",
      "display_name": "Python 3"
    },
    "language_info": {
      "name": "python"
    }
  },
  "cells": [
    {
      "cell_type": "markdown",
      "metadata": {
        "id": "view-in-github",
        "colab_type": "text"
      },
      "source": [
        "<a href=\"https://colab.research.google.com/github/GauravAero/Critical_Thinker_Crewai/blob/main/Critical_Thinker_Agent.ipynb\" target=\"_parent\"><img src=\"https://colab.research.google.com/assets/colab-badge.svg\" alt=\"Open In Colab\"/></a>"
      ]
    },
    {
      "cell_type": "markdown",
      "source": [
        "# Using CrewAI for Defining and Running AI Agents2"
      ],
      "metadata": {
        "id": "QKE9yM0njCjk"
      }
    },
    {
      "cell_type": "markdown",
      "source": [
        "\n",
        "In this notebook, we will use **CrewAI**, a framework for defining and running AI agents for specific tasks. This notebook will guide you through setting up an agent, assigning a task, and running the process.\n",
        "\n",
        "## Steps Overview\n",
        "1. Define an Agent with a role, goal, and the LLM model it will use.\n",
        "2. Define a Task that associates a description and expected output to the agent.\n",
        "3. Initialize a Crew with the agent and task.\n",
        "4. Kickoff the Crew with an input query and observe the response.\n",
        "\n",
        "---\n",
        "### Prerequisites\n",
        "- Install the `crewai` library.\n",
        "- Obtain API keys for the LLM model you want to use (e.g., Groq or OpenAI).\n",
        "- Set up a Python environment with necessary dependencies.\n",
        "\n",
        "---\n",
        "### Code Walkthrough\n",
        "Below is the implementation to define and use an AI agent for answering queries.\n"
      ],
      "metadata": {
        "id": "x83ShNt7jnYn"
      }
    },
    {
      "cell_type": "code",
      "source": [
        "## initial setup for Colab.\n",
        "## if you are using this in local jupyter notebook, skip this cell\n",
        "!pip install crewai\n",
        "!pip install langchain_openai\n",
        "!pip install google-colab"
      ],
      "metadata": {
        "id": "vhqaVKBlkk4z"
      },
      "execution_count": null,
      "outputs": []
    },
    {
      "cell_type": "code",
      "source": [
        "from crewai import Agent, Task, Crew, Process\n",
        "import os\n",
        "from google.colab import userdata\n",
        "\n",
        "# Retrieve your API key from Colab secrets\n",
        "os.environ[\"GOOGLE_API_KEY\"] = userdata.get('Gemini_key')\n",
        "\n",
        "# Method 1: Use CrewAI's built-in LLM configuration (Recommended)\n",
        "from crewai import LLM\n",
        "\n",
        "# Configure Gemini LLM directly through CrewAI\n",
        "gemini_llm = LLM(\n",
        "    model=\"gemini/gemini-2.5-flash\",  # Use gemini/ prefix for CrewAI\n",
        "    api_key=os.environ[\"GOOGLE_API_KEY\"]\n",
        ")\n",
        "\n",
        "# Define your agent with Gemini LLM\n",
        "chat_bot = Agent(\n",
        "    role='Critical Thinker',\n",
        "    goal='Analyze the text and identify any conflicting information within it',\n",
        "    llm=gemini_llm,\n",
        "    verbose=True,\n",
        "    backstory=(\n",
        "        'You are a critical thinker who understands details very well and is an expert negotiator. '\n",
        "        'You can identify conflicting statements and information in given text.'\n",
        "    ),\n",
        "    allow_delegation=False,\n",
        "    max_iter=3\n",
        ")\n",
        "\n",
        "# Define a task with a description and expected output\n",
        "chat_task = Task(\n",
        "    description='Find if there are any conflicting statements or information in the following text: {text}',\n",
        "    expected_output=\"Analyze the text and respond with either 'conflict' if contradictory information is found, or 'no conflict' if the text is consistent. Provide a brief explanation of your reasoning.\",\n",
        "    agent=chat_bot\n",
        ")\n",
        "\n",
        "# Define the Crew with agents and tasks\n",
        "crew = Crew(\n",
        "    agents=[chat_bot],\n",
        "    tasks=[chat_task],\n",
        "    verbose=True,\n",
        "    process=Process.sequential\n",
        ")\n",
        "\n",
        "# Test text with clear conflict\n",
        "Text = \"After a long day at office, I was going back home in the late evening. Then, I met my friend on the way to office.\"\n",
        "\n",
        "try:\n",
        "    # Kickoff the Crew with the input query\n",
        "    result = crew.kickoff(inputs={'text': Text})\n",
        "    print(\"Response:\", result)\n",
        "\n",
        "except Exception as e:\n",
        "    print(f\"Method 1 failed: {e}\")\n",
        "    print(\"Trying Method 2...\")\n",
        "\n",
        "    # Method 2: Alternative configuration using string model specification\n",
        "    try:\n",
        "        # Update agent with string-based model specification\n",
        "        chat_bot_alt = Agent(\n",
        "            role='Critical Thinker',\n",
        "            goal='Analyze the text and identify any conflicting information within it',\n",
        "            llm=\"gemini/gemini-2.5-flash\",  # Direct string specification\n",
        "            verbose=True,\n",
        "            backstory=(\n",
        "                'You are a critical thinker who understands details very well and is an expert negotiator. '\n",
        "                'You can identify conflicting statements and information in given text.'\n",
        "            ),\n",
        "            allow_delegation=False,\n",
        "            max_iter=3\n",
        "        )\n",
        "\n",
        "        # Update task with new agent\n",
        "        chat_task_alt = Task(\n",
        "            description='Find if there are any conflicting statements or information in the following text: {text}',\n",
        "            expected_output=\"Analyze the text and respond with either 'conflict' if contradictory information is found, or 'no conflict' if the text is consistent. Provide a brief explanation of your reasoning.\",\n",
        "            agent=chat_bot_alt\n",
        "        )\n",
        "\n",
        "        # Create new crew with updated agent\n",
        "        crew_alt = Crew(\n",
        "            agents=[chat_bot_alt],\n",
        "            tasks=[chat_task_alt],\n",
        "            verbose=True,\n",
        "            process=Process.sequential\n",
        "        )\n",
        "\n",
        "        result = crew_alt.kickoff(inputs={'text': Text})\n",
        "        print(\"Response with Method 2:\", result)\n",
        "\n",
        "    except Exception as e2:\n",
        "        print(f\"Method 2 also failed: {e2}\")\n",
        "        print(\"Trying Method 3...\")\n",
        "\n",
        "        # Method 3: Use environment variable configuration\n",
        "        try:\n",
        "            os.environ[\"GEMINI_MODEL_NAME\"] = \"gemini-2.5-flash\"\n",
        "            os.environ[\"GEMINI_API_BASE\"] = \"https://generativelanguage.googleapis.com/v1beta/\"\n",
        "\n",
        "            # Simple agent configuration\n",
        "            chat_bot_simple = Agent(\n",
        "                role='Critical Thinker',\n",
        "                goal='Analyze the text and identify any conflicting information within it',\n",
        "                verbose=True,\n",
        "                backstory=(\n",
        "                    'You are a critical thinker who understands details very well and is an expert negotiator. '\n",
        "                    'You can identify conflicting statements and information in given text.'\n",
        "                ),\n",
        "                allow_delegation=False,\n",
        "                max_iter=3\n",
        "            )\n",
        "\n",
        "            chat_task_simple = Task(\n",
        "                description='Find if there are any conflicting statements or information in the following text: {text}',\n",
        "                expected_output=\"Analyze the text and respond with either 'conflict' if contradictory information is found, or 'no conflict' if the text is consistent. Provide a brief explanation of your reasoning.\",\n",
        "                agent=chat_bot_simple\n",
        "            )\n",
        "\n",
        "            crew_simple = Crew(\n",
        "                agents=[chat_bot_simple],\n",
        "                tasks=[chat_task_simple],\n",
        "                verbose=True,\n",
        "                process=Process.sequential\n",
        "            )\n",
        "\n",
        "            result = crew_simple.kickoff(inputs={'text': Text})\n",
        "            print(\"Response with Method 3:\", result)\n",
        "\n",
        "        except Exception as e3:\n",
        "            print(f\"All methods failed. Final error: {e3}\")\n",
        "            print(\"Please ensure:\")\n",
        "            print(\"1. Your Gemini API key is correct\")\n",
        "            print(\"2. You have the latest versions of crewai and langchain-google-genai\")\n",
        "            print(\"3. Your API key has access to Gemini models\")\n",
        "            print(\"Try running: !pip install --upgrade crewai langchain-google-genai\")"
      ],
      "metadata": {
        "id": "qjA7BiUujlqh"
      },
      "execution_count": null,
      "outputs": []
    },
    {
      "cell_type": "code",
      "source": [],
      "metadata": {
        "id": "bZHML3VyjNq7"
      },
      "execution_count": null,
      "outputs": []
    }
  ]
}